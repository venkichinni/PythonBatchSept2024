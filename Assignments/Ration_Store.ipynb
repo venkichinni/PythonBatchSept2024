{
 "cells": [
  {
   "cell_type": "code",
   "execution_count": 2,
   "metadata": {},
   "outputs": [
    {
     "name": "stdout",
     "output_type": "stream",
     "text": [
      "Total Wheet Price:  750\n",
      "Total Rice Price 600\n",
      "Billed Amount:  1080.0\n"
     ]
    }
   ],
   "source": [
    "\n",
    "wheet_price_kg=25\n",
    "rice_price_kg=12\n",
    "wheet_quantity_required=30\n",
    "rice_quantity_required=50\n",
    "subsidy_provided_percentage=20\n",
    "\n",
    "TotalWheetPrice=wheet_price_kg*wheet_quantity_required\n",
    "print(\"Total Wheet Price: \",TotalWheetPrice)\n",
    "\n",
    "TotalRicePrice=rice_price_kg*rice_quantity_required\n",
    "print(\"Total Rice Price\",TotalRicePrice)\n",
    "\n",
    "BilledAmount=(TotalRicePrice+TotalWheetPrice)*\\\n",
    "    ((100-subsidy_provided_percentage)/100)\n",
    "\n",
    "print(\"Billed Amount: \",BilledAmount)\n"
   ]
  }
 ],
 "metadata": {
  "kernelspec": {
   "display_name": "Python 3",
   "language": "python",
   "name": "python3"
  },
  "language_info": {
   "codemirror_mode": {
    "name": "ipython",
    "version": 3
   },
   "file_extension": ".py",
   "mimetype": "text/x-python",
   "name": "python",
   "nbconvert_exporter": "python",
   "pygments_lexer": "ipython3",
   "version": "3.12.1"
  }
 },
 "nbformat": 4,
 "nbformat_minor": 2
}
