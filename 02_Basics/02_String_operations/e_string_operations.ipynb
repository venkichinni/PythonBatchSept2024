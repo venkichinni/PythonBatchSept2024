{
 "cells": [
  {
   "cell_type": "code",
   "execution_count": 1,
   "metadata": {},
   "outputs": [
    {
     "name": "stdout",
     "output_type": "stream",
     "text": [
      "language       : Python Programming\n"
     ]
    }
   ],
   "source": [
    "# P   y  t  h  o n     P r o g  r  a  m  m  i  n  g\n",
    "# 0   1  2  3  4 5  6  7 8 9 10 11 12 13 14 15 16 17   - forward indexing\n",
    "# -18                                      -3 -2 -1    - reverse indexing\n",
    "language = \"Python Programming\"\n",
    "print(\"language       :\", language)"
   ]
  },
  {
   "cell_type": "code",
   "execution_count": 2,
   "metadata": {},
   "outputs": [],
   "source": [
    "# string slicing :-\n",
    "#   string[start_index: final_index: step]\n",
    "#   Default Step is +1\n"
   ]
  },
  {
   "cell_type": "code",
   "execution_count": 3,
   "metadata": {},
   "outputs": [
    {
     "name": "stdout",
     "output_type": "stream",
     "text": [
      "language[7:18]   = Programming\n",
      "language[7:18:1] = Programming\n"
     ]
    }
   ],
   "source": [
    "print(\"language[7:18]   =\", language[7:18])\n",
    "print(\"language[7:18:1] =\", language[7:18:1])\n",
    "# [7:18:1] => 7, 8, 9, 10, 11, 12, 13, 14, 15, 16, 17"
   ]
  },
  {
   "cell_type": "code",
   "execution_count": 4,
   "metadata": {},
   "outputs": [
    {
     "name": "stdout",
     "output_type": "stream",
     "text": [
      "\n",
      "language[7:18:3] = Pgmn\n"
     ]
    }
   ],
   "source": [
    "# P   y  t  h  o n   P r o g  r  a  m  m  i  n  g\n",
    "# 0   1  2  3  4 5 6 7 8 9 10 11 12 13 14 15 16 17    - forward indexing\n",
    "# -18                                    -3 -2 -1    - reverse indexing\n",
    "print()\n",
    "print(\"language[7:18:3] =\", language[7:18:3])\n"
   ]
  },
  {
   "cell_type": "code",
   "execution_count": 5,
   "metadata": {},
   "outputs": [
    {
     "name": "stdout",
     "output_type": "stream",
     "text": [
      "language[7:18:-1]= \n"
     ]
    }
   ],
   "source": [
    "print(\"language[7:18:-1]=\", language[7:18:-1])\n",
    "# 7-1 = 6 ; it is not between 7 and 18\n",
    "# [7:18:-1]  =>"
   ]
  },
  {
   "cell_type": "code",
   "execution_count": 6,
   "metadata": {},
   "outputs": [
    {
     "name": "stdout",
     "output_type": "stream",
     "text": [
      "language[17:7:-1] gnimmargor\n"
     ]
    }
   ],
   "source": [
    "print(\"language[17:7:-1]\", language[17:7:-1])  # 17-1 = 16\n"
   ]
  },
  {
   "cell_type": "code",
   "execution_count": 7,
   "metadata": {},
   "outputs": [
    {
     "name": "stdout",
     "output_type": "stream",
     "text": [
      "language[17:6:-1] gnimmargorP\n",
      "language[18:6:-1] gnimmargorP\n"
     ]
    }
   ],
   "source": [
    "print(\"language[17:6:-1]\", language[17:6:-1])  # 17-1 = 16\n",
    "# [17:6:-1]  =>17, 16, 15, 14, 13, 12, 11, 10, 9, 8, 7\n",
    "\n",
    "# -> slicing above the limit\n",
    "print(\"language[18:6:-1]\", language[18:6:-1])  # 18-1 = 17\n",
    "# [18:6:-1]  => 18, 17, 16, 15, ......8, 7\n",
    "#  -1           17, 16, 15, 14, ......7\n"
   ]
  },
  {
   "cell_type": "code",
   "execution_count": 8,
   "metadata": {},
   "outputs": [
    {
     "name": "stdout",
     "output_type": "stream",
     "text": [
      "language[23:7:-3] gmrr\n"
     ]
    }
   ],
   "source": [
    "# P   y  t  h  o n   P r o g  r  a  m  m  i  n  g\n",
    "# 0   1  2  3  4 5 6 7 8 9 10 11 12 13 14 15 16 17    - forward indexing\n",
    "# -18                                    -3 -2 -1    - reverse indexing\n",
    "\n",
    "print(\"language[23:7:-3]\", language[23:7:-3])  # 23 -3 = 20\n",
    "# [23:7:-3] => 23, 20, 17, 14, 11, 8\n",
    "#  -6          17, 14, 11,  8\n",
    "#               g  m    r   r"
   ]
  },
  {
   "cell_type": "code",
   "execution_count": 9,
   "metadata": {},
   "outputs": [
    {
     "name": "stdout",
     "output_type": "stream",
     "text": [
      "language[0:7:1]: Python \n",
      "language[:7]   : Python \n"
     ]
    }
   ],
   "source": [
    "# language[0:7:+1] => 0, 1, 2, 3, 4, 5, 6\n",
    "print(\"language[0:7:1]:\", language[0:7:1])\n",
    "print(\"language[:7]   :\", language[:7])"
   ]
  },
  {
   "cell_type": "code",
   "execution_count": 10,
   "metadata": {},
   "outputs": [
    {
     "name": "stdout",
     "output_type": "stream",
     "text": [
      "language[0:]  : Python Programming\n",
      "language[6:]  :  Programming\n"
     ]
    }
   ],
   "source": [
    "print(\"language[0:]  :\", language[0:])  # language[0:18:+1]\n",
    "print(\"language[6:]  :\", language[6:])  # language[6:18:+1]"
   ]
  },
  {
   "cell_type": "code",
   "execution_count": 11,
   "metadata": {},
   "outputs": [
    {
     "name": "stdout",
     "output_type": "stream",
     "text": [
      "language[:]   : Python Programming\n",
      "language      : Python Programming\n",
      "language[::]  : Python Programming\n"
     ]
    }
   ],
   "source": [
    "print(\"language[:]   :\", language[:])  # language[0:18:+1]\n",
    "print(\"language      :\", language)\n",
    "print(\"language[::]  :\", language[::])  "
   ]
  },
  {
   "cell_type": "code",
   "execution_count": 12,
   "metadata": {},
   "outputs": [
    {
     "name": "stdout",
     "output_type": "stream",
     "text": [
      "language[::1] : Python Programming\n",
      "language[::3] : Ph oai\n"
     ]
    }
   ],
   "source": [
    "print(\"language[::1] :\", language[::1])  # language[0:18:+1]\n",
    "print(\"language[::3] :\", language[::3])  # language[0:18:+3]"
   ]
  },
  {
   "cell_type": "code",
   "execution_count": 13,
   "metadata": {},
   "outputs": [
    {
     "name": "stdout",
     "output_type": "stream",
     "text": [
      "language[::-1] : gnimmargorP nohtyP\n"
     ]
    }
   ],
   "source": [
    "print(\"language[::-1] :\", language[::-1])\n"
   ]
  },
  {
   "cell_type": "code",
   "execution_count": 14,
   "metadata": {},
   "outputs": [
    {
     "name": "stdout",
     "output_type": "stream",
     "text": [
      "language[::-3] : gmrrnt\n",
      "language[::-5] : gaPt\n"
     ]
    }
   ],
   "source": [
    "# str reversal  language[17:-1:-3]=> 17, 14, 11, 8, 5, 2, -1\n",
    "print(\"language[::-3] :\", language[::-3])\n",
    "\n",
    "# str reversal  language[17:-1:-5]=> 17, 12, 7, 2\n",
    "print(\"language[::-5] :\", language[::-5])"
   ]
  }
 ],
 "metadata": {
  "kernelspec": {
   "display_name": "Python 3",
   "language": "python",
   "name": "python3"
  },
  "language_info": {
   "codemirror_mode": {
    "name": "ipython",
    "version": 3
   },
   "file_extension": ".py",
   "mimetype": "text/x-python",
   "name": "python",
   "nbconvert_exporter": "python",
   "pygments_lexer": "ipython3",
   "version": "3.12.1"
  }
 },
 "nbformat": 4,
 "nbformat_minor": 2
}
