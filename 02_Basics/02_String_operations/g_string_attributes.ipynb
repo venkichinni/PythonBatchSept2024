{
 "cells": [
  {
   "cell_type": "markdown",
   "metadata": {},
   "source": [
    "String Attributes"
   ]
  },
  {
   "cell_type": "code",
   "execution_count": 1,
   "metadata": {},
   "outputs": [
    {
     "name": "stdout",
     "output_type": "stream",
     "text": [
      "language       =  Python Programming\n",
      "type(language) =  <class 'str'>\n"
     ]
    }
   ],
   "source": [
    "language = \"Python Programming\"\n",
    "print(\"language       = \", language)\n",
    "print(\"type(language) = \", type(language))"
   ]
  },
  {
   "cell_type": "code",
   "execution_count": 2,
   "metadata": {},
   "outputs": [
    {
     "name": "stdout",
     "output_type": "stream",
     "text": [
      "len(language)  =  18\n",
      "id(language)   =  132511620306672\n"
     ]
    }
   ],
   "source": [
    "print(\"len(language)  = \", len(language))\n",
    "print(\"id(language)   = \", id(language))  # address location"
   ]
  },
  {
   "cell_type": "code",
   "execution_count": 3,
   "metadata": {},
   "outputs": [
    {
     "name": "stdout",
     "output_type": "stream",
     "text": [
      "String Attributes\n",
      "dir(language) : ['__add__', '__class__', '__contains__', '__delattr__', '__dir__', '__doc__', '__eq__', '__format__', '__ge__', '__getattribute__', '__getitem__', '__getnewargs__', '__getstate__', '__gt__', '__hash__', '__init__', '__init_subclass__', '__iter__', '__le__', '__len__', '__lt__', '__mod__', '__mul__', '__ne__', '__new__', '__reduce__', '__reduce_ex__', '__repr__', '__rmod__', '__rmul__', '__setattr__', '__sizeof__', '__str__', '__subclasshook__', 'capitalize', 'casefold', 'center', 'count', 'encode', 'endswith', 'expandtabs', 'find', 'format', 'format_map', 'index', 'isalnum', 'isalpha', 'isascii', 'isdecimal', 'isdigit', 'isidentifier', 'islower', 'isnumeric', 'isprintable', 'isspace', 'istitle', 'isupper', 'join', 'ljust', 'lower', 'lstrip', 'maketrans', 'partition', 'removeprefix', 'removesuffix', 'replace', 'rfind', 'rindex', 'rjust', 'rpartition', 'rsplit', 'rstrip', 'split', 'splitlines', 'startswith', 'strip', 'swapcase', 'title', 'translate', 'upper', 'zfill']\n"
     ]
    }
   ],
   "source": [
    "print(\"String Attributes\")\n",
    "print(\"dir(language) :\", dir(language))"
   ]
  },
  {
   "cell_type": "code",
   "execution_count": 4,
   "metadata": {},
   "outputs": [],
   "source": [
    "# string concatenation\n",
    "mystr1 = 'Taj'\n",
    "mystr2 = \"Mahal\""
   ]
  },
  {
   "cell_type": "code",
   "execution_count": 5,
   "metadata": {},
   "outputs": [
    {
     "name": "stdout",
     "output_type": "stream",
     "text": [
      "result =  TajMahal\n"
     ]
    }
   ],
   "source": [
    "result = mystr1 + mystr2\n",
    "print(\"result = \", result)"
   ]
  },
  {
   "cell_type": "code",
   "execution_count": 6,
   "metadata": {},
   "outputs": [
    {
     "name": "stdout",
     "output_type": "stream",
     "text": [
      "result =  TajMahal\n"
     ]
    }
   ],
   "source": [
    "result = mystr1.__add__(mystr2)\n",
    "print(\"result = \", result)"
   ]
  },
  {
   "cell_type": "code",
   "execution_count": 7,
   "metadata": {},
   "outputs": [
    {
     "name": "stdout",
     "output_type": "stream",
     "text": [
      "len(language)     : 18\n",
      "language.__len__(): 18\n"
     ]
    }
   ],
   "source": [
    "# string length\n",
    "print(\"len(language)     :\", len(language))\n",
    "print(\"language.__len__():\", language.__len__())"
   ]
  },
  {
   "cell_type": "code",
   "execution_count": 8,
   "metadata": {},
   "outputs": [
    {
     "name": "stdout",
     "output_type": "stream",
     "text": [
      "result= TajTajTajTajTaj\n",
      "result= TajTajTajTajTaj\n"
     ]
    }
   ],
   "source": [
    "'555'\n",
    "# String repetition\n",
    "result = mystr1 * 5\n",
    "print(\"result=\", result)\n",
    "\n",
    "result = mystr1.__mul__(5)\n",
    "print(\"result=\", result)"
   ]
  },
  {
   "cell_type": "code",
   "execution_count": 9,
   "metadata": {},
   "outputs": [
    {
     "name": "stdout",
     "output_type": "stream",
     "text": [
      "str(language)     : Python Programming\n",
      "language.__str__(): Python Programming\n",
      "\n",
      "repr(language)     : 'Python Programming'\n",
      "language.__repr__(): 'Python Programming'\n"
     ]
    }
   ],
   "source": [
    "print(\"str(language)     :\", str(language))\n",
    "print(\"language.__str__():\", language.__str__())\n",
    "print()\n",
    "\n",
    "print(\"repr(language)     :\", repr(language))\n",
    "print(\"language.__repr__():\", language.__repr__())"
   ]
  },
  {
   "cell_type": "code",
   "execution_count": 10,
   "metadata": {},
   "outputs": [
    {
     "name": "stdout",
     "output_type": "stream",
     "text": [
      "language             : Python Programming\n",
      "language.capitalize(): Python programming\n",
      "language.title()     : Python Programming\n",
      "language.upper()     : PYTHON PROGRAMMING\n",
      "language.lower()     : python programming\n",
      "language.swapcase()  : pYTHON pROGRAMMING\n"
     ]
    }
   ],
   "source": [
    "print(\"language             :\", language)\n",
    "print(\"language.capitalize():\", language.capitalize())\n",
    "print(\"language.title()     :\", language.title())\n",
    "print(\"language.upper()     :\", language.upper())\n",
    "print(\"language.lower()     :\", language.lower())\n",
    "print(\"language.swapcase()  :\", language.swapcase())"
   ]
  },
  {
   "cell_type": "code",
   "execution_count": 11,
   "metadata": {},
   "outputs": [
    {
     "name": "stdout",
     "output_type": "stream",
     "text": [
      "language             : Python Programming\n",
      "language.istitle()   : True\n",
      "\"ABCD123#\".isupper() : True\n",
      "\"Abcd123#\".islower() : False\n",
      "\"abcd123#\".islower() : True\n",
      "\"123#\".islower()     : False\n"
     ]
    }
   ],
   "source": [
    "print(\"language             :\", language)\n",
    "print(\"language.istitle()   :\", language.istitle())\n",
    "\n",
    "print('\"ABCD123#\".isupper() :', \"ABCD123#\".isupper())\n",
    "# upper case should be present; lower case absent\n",
    "print('\"Abcd123#\".islower() :', \"Abcd123#\".islower())\n",
    "print('\"abcd123#\".islower() :', \"abcd123#\".islower())\n",
    "print('\"123#\".islower()     :', \"123#\".islower())"
   ]
  },
  {
   "cell_type": "code",
   "execution_count": 12,
   "metadata": {},
   "outputs": [
    {
     "name": "stdout",
     "output_type": "stream",
     "text": [
      "\"1234\".isdigit()     : True\n",
      "\"-1234\".isdigit()     : False\n",
      "\"1234 \".isdigit()    : False\n",
      "\"12 34\".isdigit()    : False\n",
      "\"123edsd\".isdigit()  : False\n",
      "\n",
      "\"1234\".isnumeric()     : True\n",
      "\"-1234\".isnumeric()     : False\n",
      "\"1234 \".isnumeric()    : False\n",
      "\"12 34\".isnumeric()    : False\n",
      "\"123edsd\".isnumeric()  : False\n",
      "\n"
     ]
    }
   ],
   "source": [
    "# isupper\n",
    "#     1. atleast one upper case character should present\n",
    "#     2. lower case character should NOT present\n",
    "\n",
    "print('\"1234\".isdigit()     :', \"1234\".isdigit())\n",
    "print('\"-1234\".isdigit()     :', \"-1234\".isdigit())\n",
    "print('\"1234 \".isdigit()    :', \"1234 \".isdigit())\n",
    "print('\"12 34\".isdigit()    :', \"12 34\".isdigit())\n",
    "print('\"123edsd\".isdigit()  :', \"123edsd\".isdigit())\n",
    "print()\n",
    "\n",
    "print('\"1234\".isnumeric()     :', \"1234\".isnumeric())\n",
    "print('\"-1234\".isnumeric()     :', \"-1234\".isnumeric())\n",
    "print('\"1234 \".isnumeric()    :', \"1234 \".isnumeric())\n",
    "print('\"12 34\".isnumeric()    :', \"12 34\".isnumeric())\n",
    "print('\"123edsd\".isnumeric()  :', \"123edsd\".isnumeric())\n",
    "print()"
   ]
  },
  {
   "cell_type": "code",
   "execution_count": 13,
   "metadata": {},
   "outputs": [
    {
     "name": "stdout",
     "output_type": "stream",
     "text": [
      "\"abcD\".isalpha()     : True\n",
      "\"abcd1\".isalpha()    : False\n"
     ]
    }
   ],
   "source": [
    "print('\"abcD\".isalpha()     :', \"abcD\".isalpha())\n",
    "print('\"abcd1\".isalpha()    :', \"abcd1\".isalpha())"
   ]
  },
  {
   "cell_type": "code",
   "execution_count": 14,
   "metadata": {},
   "outputs": [
    {
     "name": "stdout",
     "output_type": "stream",
     "text": [
      "\"ab123\".isalnum()    : True\n",
      "\"ab123#\".isalnum()   : False\n",
      "\"123\".isalnum()      : True\n",
      "\"abc\".isalnum()      : True\n"
     ]
    }
   ],
   "source": [
    "print('\"ab123\".isalnum()    :', \"ab123\".isalnum())\n",
    "print('\"ab123#\".isalnum()   :', \"ab123#\".isalnum())\n",
    "print('\"123\".isalnum()      :', \"123\".isalnum())\n",
    "print('\"abc\".isalnum()      :', \"abc\".isalnum())"
   ]
  },
  {
   "cell_type": "code",
   "execution_count": 15,
   "metadata": {},
   "outputs": [
    {
     "name": "stdout",
     "output_type": "stream",
     "text": [
      "language.find(\"t\")        : 2\n"
     ]
    }
   ],
   "source": [
    "print('language.find(\"t\")        :', language.find(\"t\"))  # 2\n"
   ]
  },
  {
   "cell_type": "code",
   "execution_count": 16,
   "metadata": {},
   "outputs": [
    {
     "name": "stdout",
     "output_type": "stream",
     "text": [
      "language.find(\"n\")        : 5\n"
     ]
    }
   ],
   "source": [
    "print('language.find(\"n\")        :', language.find(\"n\"))  # 5\n"
   ]
  },
  {
   "cell_type": "code",
   "execution_count": 17,
   "metadata": {},
   "outputs": [
    {
     "name": "stdout",
     "output_type": "stream",
     "text": [
      "language.rfind(\"n\")       : 16\n"
     ]
    }
   ],
   "source": [
    "print('language.rfind(\"n\")       :', language.rfind(\"n\"))  # 16\n"
   ]
  },
  {
   "cell_type": "code",
   "execution_count": 18,
   "metadata": {},
   "outputs": [
    {
     "name": "stdout",
     "output_type": "stream",
     "text": [
      "language.find(\"n\", 6)     : 16\n",
      "language.rfind(\"n\", 15)   : 16\n",
      "language.find(\"n\", 6, 17) : 16\n",
      "\n",
      "language.find(\"Prog\")     : 7\n",
      "language.rfind(\"Prog\")    : 7\n"
     ]
    }
   ],
   "source": [
    "print('language.find(\"n\", 6)     :', language.find(\"n\", 6))  # 16\n",
    "print('language.rfind(\"n\", 15)   :', language.rfind(\"n\", 15))  # 16\n",
    "\n",
    "print('language.find(\"n\", 6, 17) :', language.find(\"n\", 6, 17))  # 16\n",
    "print()\n",
    "\n",
    "print('language.find(\"Prog\")     :', language.find(\"Prog\"))  # 7\n",
    "print('language.rfind(\"Prog\")    :', language.rfind(\"Prog\"))  # 7"
   ]
  },
  {
   "cell_type": "code",
   "execution_count": 19,
   "metadata": {},
   "outputs": [
    {
     "name": "stdout",
     "output_type": "stream",
     "text": [
      "language.index(\"t\")       : 2\n",
      "language.index(\"n\")       : 5\n",
      "language.rindex(\"n\")      : 16\n",
      "\n",
      "language.index(\"Prog\")    : 7\n",
      "language.rindex(\"Prog\")   : 7\n"
     ]
    }
   ],
   "source": [
    "print('language.index(\"t\")       :', language.index(\"t\"))\n",
    "print('language.index(\"n\")       :', language.index(\"n\"))\n",
    "print('language.rindex(\"n\")      :', language.rindex(\"n\"))\n",
    "print()\n",
    "print('language.index(\"Prog\")    :', language.index(\"Prog\"))\n",
    "print('language.rindex(\"Prog\")   :', language.rindex(\"Prog\"))"
   ]
  },
  {
   "cell_type": "code",
   "execution_count": 20,
   "metadata": {},
   "outputs": [
    {
     "name": "stdout",
     "output_type": "stream",
     "text": [
      "language.find(\"Q\")        : -1\n"
     ]
    }
   ],
   "source": [
    "print('language.find(\"Q\")        :', language.find(\"Q\"))\n"
   ]
  },
  {
   "cell_type": "code",
   "execution_count": 21,
   "metadata": {},
   "outputs": [
    {
     "name": "stdout",
     "output_type": "stream",
     "text": [
      "language.find(\"Prog\")     : 7\n",
      "language.find(\"Porg\")     : -1\n"
     ]
    }
   ],
   "source": [
    "print('language.find(\"Prog\")     :', language.find(\"Prog\"))  # 7\n",
    "print('language.find(\"Porg\")     :', language.find(\"Porg\"))  # -1"
   ]
  }
 ],
 "metadata": {
  "kernelspec": {
   "display_name": "Python 3",
   "language": "python",
   "name": "python3"
  },
  "language_info": {
   "codemirror_mode": {
    "name": "ipython",
    "version": 3
   },
   "file_extension": ".py",
   "mimetype": "text/x-python",
   "name": "python",
   "nbconvert_exporter": "python",
   "pygments_lexer": "ipython3",
   "version": "3.12.1"
  }
 },
 "nbformat": 4,
 "nbformat_minor": 2
}
